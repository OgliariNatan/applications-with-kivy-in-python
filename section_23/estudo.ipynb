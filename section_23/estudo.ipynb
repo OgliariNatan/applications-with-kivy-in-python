{
 "cells": [
  {
   "cell_type": "code",
   "execution_count": null,
   "id": "ae640e17",
   "metadata": {},
   "outputs": [],
   "source": [
    "print(\"fwdfwe\")"
   ]
  },
  {
   "cell_type": "code",
   "execution_count": null,
   "id": "d967c7db",
   "metadata": {},
   "outputs": [],
   "source": []
  },
  {
   "cell_type": "code",
   "execution_count": null,
   "id": "123e2e32",
   "metadata": {},
   "outputs": [],
   "source": []
  },
  {
   "cell_type": "code",
   "execution_count": null,
   "id": "84aea130",
   "metadata": {},
   "outputs": [],
   "source": []
  },
  {
   "cell_type": "code",
   "execution_count": null,
   "id": "3eade403",
   "metadata": {},
   "outputs": [],
   "source": [
    "print(\"FAFAFA\")"
   ]
  },
  {
   "cell_type": "code",
   "execution_count": null,
   "id": "a8b7c2de",
   "metadata": {},
   "outputs": [],
   "source": []
  },
  {
   "cell_type": "code",
   "execution_count": null,
   "id": "f11f3786",
   "metadata": {},
   "outputs": [],
   "source": [
    "print(10+10)"
   ]
  },
  {
   "cell_type": "code",
   "execution_count": null,
   "id": "56cdc315",
   "metadata": {},
   "outputs": [],
   "source": []
  },
  {
   "cell_type": "code",
   "execution_count": null,
   "id": "66b00a9a",
   "metadata": {},
   "outputs": [],
   "source": []
  },
  {
   "cell_type": "code",
   "execution_count": null,
   "id": "8a47274f",
   "metadata": {},
   "outputs": [],
   "source": []
  },
  {
   "cell_type": "code",
   "execution_count": null,
   "id": "655affab",
   "metadata": {},
   "outputs": [],
   "source": []
  },
  {
   "cell_type": "code",
   "execution_count": null,
   "id": "5b6165af",
   "metadata": {},
   "outputs": [],
   "source": []
  },
  {
   "cell_type": "code",
   "execution_count": null,
   "id": "c8d0b7ad",
   "metadata": {},
   "outputs": [],
   "source": []
  }
 ],
 "metadata": {
  "kernelspec": {
   "display_name": "Python 3",
   "language": "python",
   "name": "python3"
  }
 },
 "nbformat": 4,
 "nbformat_minor": 5
}
