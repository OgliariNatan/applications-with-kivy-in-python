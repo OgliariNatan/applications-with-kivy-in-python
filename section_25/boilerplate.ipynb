{
 "cells": [
  {
   "cell_type": "code",
   "execution_count": null,
   "id": "c06dc302",
   "metadata": {},
   "outputs": [],
   "source": [
    "from kivy.app import App"
   ]
  },
  {
   "cell_type": "code",
   "execution_count": null,
   "id": "a540db99",
   "metadata": {},
   "outputs": [],
   "source": []
  }
 ],
 "metadata": {
  "kernelspec": {
   "display_name": "Python 3",
   "language": "python",
   "name": "python3"
  }
 },
 "nbformat": 4,
 "nbformat_minor": 5
}
